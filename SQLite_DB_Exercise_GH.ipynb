{
  "nbformat": 4,
  "nbformat_minor": 0,
  "metadata": {
    "colab": {
      "provenance": [],
      "include_colab_link": true
    },
    "kernelspec": {
      "name": "python3",
      "display_name": "Python 3"
    },
    "language_info": {
      "name": "python"
    }
  },
  "cells": [
    {
      "cell_type": "markdown",
      "metadata": {
        "id": "view-in-github",
        "colab_type": "text"
      },
      "source": [
        "<a href=\"https://colab.research.google.com/github/NI8868/AnalyticsInPractice2425/blob/main/SQLite_DB_Exercise_GH.ipynb\" target=\"_parent\"><img src=\"https://colab.research.google.com/assets/colab-badge.svg\" alt=\"Open In Colab\"/></a>"
      ]
    },
    {
      "cell_type": "markdown",
      "source": [
        "**STEP 1: CREATE the SQLite database;**\n"
      ],
      "metadata": {
        "id": "LNaKuchnQfb_"
      }
    },
    {
      "cell_type": "markdown",
      "source": [
        "We need to import the sqlite3 module and create the database and tables.  You'll see this follows the syntax we have used on previous weeks.\n",
        "\n",
        "Note that we have created the student table with a primary key that is not an INTEGER.\n",
        "\n",
        "Is this good practice?  \n",
        "What are the issues and benefits of doing this?"
      ],
      "metadata": {
        "id": "wUpw9AOgQweW"
      }
    },
    {
      "cell_type": "code",
      "execution_count": 1,
      "metadata": {
        "id": "0iMWnVhS8qjx",
        "colab": {
          "base_uri": "https://localhost:8080/"
        },
        "outputId": "83b0d896-d2bc-44cd-adc7-b61dfca29c0f"
      },
      "outputs": [
        {
          "output_type": "stream",
          "name": "stdout",
          "text": [
            "Database and tables created successfully!\n"
          ]
        }
      ],
      "source": [
        "import sqlite3\n",
        "\n",
        "#This statement creates a connection labelled as conn.  This will be used throughout to ensure the consistency for when we start to query the database tables.\n",
        "conn = sqlite3.connect('student_grades.db')\n",
        "cursor = conn.cursor()\n",
        "\n",
        "#create the student table - we've set the ID to be a primary key.  Is it good to create the primary key as an TEXT string.\n",
        "cursor.execute('''\n",
        "CREATE TABLE IF NOT EXISTS student (\n",
        "  ID TEXT PRIMARY KEY,\n",
        "  First TEXT NOT NULL,\n",
        "  Last TEXT NOT NULL\n",
        ")\n",
        "''')\n",
        "\n",
        "#create the grade table - no primary key provided.  As students can exist multiple times in the table as can a course.\n",
        "cursor.execute('''\n",
        "CREATE TABLE IF NOT EXISTS grade (\n",
        "  ID TEXT,\n",
        "  Code TEXT NOT NULL,\n",
        "  Mark INTEGER NOT NULL\n",
        ")\n",
        "''')\n",
        "\n",
        "#create the course table - primary key provided again set as TEXT.\n",
        "cursor.execute('''\n",
        "CREATE TABLE IF NOT EXISTS course (\n",
        "  Code TEXT PRIMARY KEY,\n",
        "  Title TEXT NOT NULL\n",
        ")\n",
        "''')\n",
        "\n",
        "#This saves the chnages to the databae.  Up unitl this point the executed SQL statement isn't stored, changes are not immediatley saved.\n",
        "conn.commit()\n",
        "#conn.close()\n",
        "print(\"Database and tables created successfully!\")\n"
      ]
    },
    {
      "cell_type": "markdown",
      "source": [
        "**STEP 2: Check Tables Created:**\n",
        "\n",
        "Run the command to show the database tables created and the structure."
      ],
      "metadata": {
        "id": "bQ8lr_HEViN3"
      }
    },
    {
      "cell_type": "code",
      "source": [
        "# prompt: show the table structures\n",
        "\n",
        "#import sqlite3\n",
        "\n",
        "#conn = sqlite3.connect('student_grades.db')\n",
        "#cursor = conn.cursor()\n",
        "\n",
        "cursor.execute(\"SELECT name FROM sqlite_master WHERE type='table';\")\n",
        "tables = cursor.fetchall()\n",
        "\n",
        "for table_name in tables:\n",
        "    print(f\"Table: {table_name[0]}\")\n",
        "    cursor.execute(f\"PRAGMA table_info({table_name[0]});\")\n",
        "    columns = cursor.fetchall()\n",
        "    for col in columns:\n",
        "        print(f\"  Column: {col[1]}, Type: {col[2]}, NotNull: {col[3]}, DefaultVal: {col[4]}, PrimaryKey: {col[5]}\")\n",
        "    print(\"-\" * 20)\n",
        "\n",
        "#conn.close()\n"
      ],
      "metadata": {
        "id": "7YAxyXoB9rN_",
        "colab": {
          "base_uri": "https://localhost:8080/"
        },
        "outputId": "ee95f785-42cd-401e-b617-9fe245a45547"
      },
      "execution_count": 2,
      "outputs": [
        {
          "output_type": "stream",
          "name": "stdout",
          "text": [
            "Table: student\n",
            "  Column: ID, Type: TEXT, NotNull: 0, DefaultVal: None, PrimaryKey: 1\n",
            "  Column: First, Type: TEXT, NotNull: 1, DefaultVal: None, PrimaryKey: 0\n",
            "  Column: Last, Type: TEXT, NotNull: 1, DefaultVal: None, PrimaryKey: 0\n",
            "--------------------\n",
            "Table: grade\n",
            "  Column: ID, Type: TEXT, NotNull: 0, DefaultVal: None, PrimaryKey: 0\n",
            "  Column: Code, Type: TEXT, NotNull: 1, DefaultVal: None, PrimaryKey: 0\n",
            "  Column: Mark, Type: INTEGER, NotNull: 1, DefaultVal: None, PrimaryKey: 0\n",
            "--------------------\n",
            "Table: course\n",
            "  Column: Code, Type: TEXT, NotNull: 0, DefaultVal: None, PrimaryKey: 1\n",
            "  Column: Title, Type: TEXT, NotNull: 1, DefaultVal: None, PrimaryKey: 0\n",
            "--------------------\n"
          ]
        }
      ]
    },
    {
      "cell_type": "markdown",
      "source": [
        "**STEP 3: Upload Files:**\n",
        "\n",
        "Run this box three times to upload the relevant csv files.\n",
        "\n",
        "Course_Table.csv, Student_Table.csv & Grade_table.csv"
      ],
      "metadata": {
        "id": "BH7SbcUPWPcS"
      }
    },
    {
      "cell_type": "code",
      "source": [
        "\n",
        "\n",
        "from google.colab import files\n",
        "uploaded = files.upload()\n",
        "for fn in uploaded.keys():\n",
        "  print('User uploaded file \"{name}\" with length {length} bytes'.format(\n",
        "      name=fn, length=len(uploaded[fn])))\n"
      ],
      "metadata": {
        "colab": {
          "base_uri": "https://localhost:8080/",
          "height": 200
        },
        "id": "8obMdgpiV46v",
        "outputId": "4816bfa7-9992-484d-ab9e-f4b9f5245815"
      },
      "execution_count": 3,
      "outputs": [
        {
          "output_type": "display_data",
          "data": {
            "text/plain": [
              "<IPython.core.display.HTML object>"
            ],
            "text/html": [
              "\n",
              "     <input type=\"file\" id=\"files-19ef60c1-a028-4264-af98-2cc0b619c721\" name=\"files[]\" multiple disabled\n",
              "        style=\"border:none\" />\n",
              "     <output id=\"result-19ef60c1-a028-4264-af98-2cc0b619c721\">\n",
              "      Upload widget is only available when the cell has been executed in the\n",
              "      current browser session. Please rerun this cell to enable.\n",
              "      </output>\n",
              "      <script>// Copyright 2017 Google LLC\n",
              "//\n",
              "// Licensed under the Apache License, Version 2.0 (the \"License\");\n",
              "// you may not use this file except in compliance with the License.\n",
              "// You may obtain a copy of the License at\n",
              "//\n",
              "//      http://www.apache.org/licenses/LICENSE-2.0\n",
              "//\n",
              "// Unless required by applicable law or agreed to in writing, software\n",
              "// distributed under the License is distributed on an \"AS IS\" BASIS,\n",
              "// WITHOUT WARRANTIES OR CONDITIONS OF ANY KIND, either express or implied.\n",
              "// See the License for the specific language governing permissions and\n",
              "// limitations under the License.\n",
              "\n",
              "/**\n",
              " * @fileoverview Helpers for google.colab Python module.\n",
              " */\n",
              "(function(scope) {\n",
              "function span(text, styleAttributes = {}) {\n",
              "  const element = document.createElement('span');\n",
              "  element.textContent = text;\n",
              "  for (const key of Object.keys(styleAttributes)) {\n",
              "    element.style[key] = styleAttributes[key];\n",
              "  }\n",
              "  return element;\n",
              "}\n",
              "\n",
              "// Max number of bytes which will be uploaded at a time.\n",
              "const MAX_PAYLOAD_SIZE = 100 * 1024;\n",
              "\n",
              "function _uploadFiles(inputId, outputId) {\n",
              "  const steps = uploadFilesStep(inputId, outputId);\n",
              "  const outputElement = document.getElementById(outputId);\n",
              "  // Cache steps on the outputElement to make it available for the next call\n",
              "  // to uploadFilesContinue from Python.\n",
              "  outputElement.steps = steps;\n",
              "\n",
              "  return _uploadFilesContinue(outputId);\n",
              "}\n",
              "\n",
              "// This is roughly an async generator (not supported in the browser yet),\n",
              "// where there are multiple asynchronous steps and the Python side is going\n",
              "// to poll for completion of each step.\n",
              "// This uses a Promise to block the python side on completion of each step,\n",
              "// then passes the result of the previous step as the input to the next step.\n",
              "function _uploadFilesContinue(outputId) {\n",
              "  const outputElement = document.getElementById(outputId);\n",
              "  const steps = outputElement.steps;\n",
              "\n",
              "  const next = steps.next(outputElement.lastPromiseValue);\n",
              "  return Promise.resolve(next.value.promise).then((value) => {\n",
              "    // Cache the last promise value to make it available to the next\n",
              "    // step of the generator.\n",
              "    outputElement.lastPromiseValue = value;\n",
              "    return next.value.response;\n",
              "  });\n",
              "}\n",
              "\n",
              "/**\n",
              " * Generator function which is called between each async step of the upload\n",
              " * process.\n",
              " * @param {string} inputId Element ID of the input file picker element.\n",
              " * @param {string} outputId Element ID of the output display.\n",
              " * @return {!Iterable<!Object>} Iterable of next steps.\n",
              " */\n",
              "function* uploadFilesStep(inputId, outputId) {\n",
              "  const inputElement = document.getElementById(inputId);\n",
              "  inputElement.disabled = false;\n",
              "\n",
              "  const outputElement = document.getElementById(outputId);\n",
              "  outputElement.innerHTML = '';\n",
              "\n",
              "  const pickedPromise = new Promise((resolve) => {\n",
              "    inputElement.addEventListener('change', (e) => {\n",
              "      resolve(e.target.files);\n",
              "    });\n",
              "  });\n",
              "\n",
              "  const cancel = document.createElement('button');\n",
              "  inputElement.parentElement.appendChild(cancel);\n",
              "  cancel.textContent = 'Cancel upload';\n",
              "  const cancelPromise = new Promise((resolve) => {\n",
              "    cancel.onclick = () => {\n",
              "      resolve(null);\n",
              "    };\n",
              "  });\n",
              "\n",
              "  // Wait for the user to pick the files.\n",
              "  const files = yield {\n",
              "    promise: Promise.race([pickedPromise, cancelPromise]),\n",
              "    response: {\n",
              "      action: 'starting',\n",
              "    }\n",
              "  };\n",
              "\n",
              "  cancel.remove();\n",
              "\n",
              "  // Disable the input element since further picks are not allowed.\n",
              "  inputElement.disabled = true;\n",
              "\n",
              "  if (!files) {\n",
              "    return {\n",
              "      response: {\n",
              "        action: 'complete',\n",
              "      }\n",
              "    };\n",
              "  }\n",
              "\n",
              "  for (const file of files) {\n",
              "    const li = document.createElement('li');\n",
              "    li.append(span(file.name, {fontWeight: 'bold'}));\n",
              "    li.append(span(\n",
              "        `(${file.type || 'n/a'}) - ${file.size} bytes, ` +\n",
              "        `last modified: ${\n",
              "            file.lastModifiedDate ? file.lastModifiedDate.toLocaleDateString() :\n",
              "                                    'n/a'} - `));\n",
              "    const percent = span('0% done');\n",
              "    li.appendChild(percent);\n",
              "\n",
              "    outputElement.appendChild(li);\n",
              "\n",
              "    const fileDataPromise = new Promise((resolve) => {\n",
              "      const reader = new FileReader();\n",
              "      reader.onload = (e) => {\n",
              "        resolve(e.target.result);\n",
              "      };\n",
              "      reader.readAsArrayBuffer(file);\n",
              "    });\n",
              "    // Wait for the data to be ready.\n",
              "    let fileData = yield {\n",
              "      promise: fileDataPromise,\n",
              "      response: {\n",
              "        action: 'continue',\n",
              "      }\n",
              "    };\n",
              "\n",
              "    // Use a chunked sending to avoid message size limits. See b/62115660.\n",
              "    let position = 0;\n",
              "    do {\n",
              "      const length = Math.min(fileData.byteLength - position, MAX_PAYLOAD_SIZE);\n",
              "      const chunk = new Uint8Array(fileData, position, length);\n",
              "      position += length;\n",
              "\n",
              "      const base64 = btoa(String.fromCharCode.apply(null, chunk));\n",
              "      yield {\n",
              "        response: {\n",
              "          action: 'append',\n",
              "          file: file.name,\n",
              "          data: base64,\n",
              "        },\n",
              "      };\n",
              "\n",
              "      let percentDone = fileData.byteLength === 0 ?\n",
              "          100 :\n",
              "          Math.round((position / fileData.byteLength) * 100);\n",
              "      percent.textContent = `${percentDone}% done`;\n",
              "\n",
              "    } while (position < fileData.byteLength);\n",
              "  }\n",
              "\n",
              "  // All done.\n",
              "  yield {\n",
              "    response: {\n",
              "      action: 'complete',\n",
              "    }\n",
              "  };\n",
              "}\n",
              "\n",
              "scope.google = scope.google || {};\n",
              "scope.google.colab = scope.google.colab || {};\n",
              "scope.google.colab._files = {\n",
              "  _uploadFiles,\n",
              "  _uploadFilesContinue,\n",
              "};\n",
              "})(self);\n",
              "</script> "
            ]
          },
          "metadata": {}
        },
        {
          "output_type": "stream",
          "name": "stdout",
          "text": [
            "Saving Course_Table.csv to Course_Table (1).csv\n",
            "Saving Grade_Table.csv to Grade_Table (1).csv\n",
            "Saving Student_Table.csv to Student_Table (1).csv\n",
            "User uploaded file \"Course_Table (1).csv\" with length 614 bytes\n",
            "User uploaded file \"Grade_Table (1).csv\" with length 12019 bytes\n",
            "User uploaded file \"Student_Table (1).csv\" with length 816 bytes\n"
          ]
        }
      ]
    },
    {
      "cell_type": "markdown",
      "source": [
        "**STEP 4: Load CSV files into the database tables:**\n",
        "\n",
        "This will populate the database tables with the data from the csv files.  No need to write INSERT statements.\n",
        "\n",
        "You need to make sure the correct files are loaded into the corresponding tables."
      ],
      "metadata": {
        "id": "PQVFAIgNW9I6"
      }
    },
    {
      "cell_type": "code",
      "source": [
        "import csv\n",
        "def import_csv_to_table(csv_file, table_name):\n",
        "    #opens the file as read only 'r', doesn't allow the origianl csv to be changed.\n",
        "    with open(csv_file, 'r', encoding='utf-8') as file:\n",
        "        csv_reader = csv.reader(file)\n",
        "        next(csv_reader)  # Skip header row if present\n",
        "        for row in csv_reader:\n",
        "            #? creates a placeholder for each column in the CSV file. ['?','?','?'] - Join makes it a string so it can then be inserted.\n",
        "            # use of the '?' reduce risk of SQL injection\n",
        "            placeholders = ', '.join(['?' for _ in row])\n",
        "            #Assumes that the CSV and table have the same structure (this could be an issue) Would have to specify column names if different.\n",
        "            sql = f\"INSERT INTO {table_name} VALUES ({placeholders})\"\n",
        "            cursor.execute(sql, row)\n",
        "\n",
        "# Import data from CSV files into the relevant table - Student_Table goes into student table.  Teh import_csv_to_table is the function, passing the two values across.\n",
        "try:\n",
        "    import_csv_to_table('Student_Table.csv', 'student')\n",
        "    import_csv_to_table('Course_Table.csv', 'course')\n",
        "    import_csv_to_table('Grade_Table.csv', 'grade')\n",
        "    conn.commit()\n",
        "    print(\"Data imported successfully!\")\n",
        "except Exception as e:\n",
        "    print(f\"An error occurred: {e}\")\n",
        "    conn.rollback()  # Rollback changes if an error occurred\n",
        "\n"
      ],
      "metadata": {
        "id": "ed0T4gXZLTD4",
        "colab": {
          "base_uri": "https://localhost:8080/"
        },
        "outputId": "150651bb-e34a-4eb3-811e-98be57a2242f"
      },
      "execution_count": 4,
      "outputs": [
        {
          "output_type": "stream",
          "name": "stdout",
          "text": [
            "Data imported successfully!\n"
          ]
        }
      ]
    },
    {
      "cell_type": "markdown",
      "source": [
        "**STEP 5: Check Data has loaded**\n",
        "\n",
        "Query each database table and load the data into a dataframe and display the first 5 lines"
      ],
      "metadata": {
        "id": "d3ozIMAAauOx"
      }
    },
    {
      "cell_type": "code",
      "source": [
        "import pandas as pd\n",
        "# Query all three tables and load into pandas DataFrames\n",
        "student_df = pd.read_sql_query(\"SELECT * FROM student\", conn)\n",
        "grade_df = pd.read_sql_query(\"SELECT * FROM grade\", conn)\n",
        "course_df = pd.read_sql_query(\"SELECT * FROM course\", conn)\n",
        "\n",
        "# Show the first 5 lines of each DataFrame\n",
        "print(\"Student Table:\")\n",
        "print(student_df.head(5))\n",
        "print(\"\\nGrade Table:\")\n",
        "print(grade_df.head(5))\n",
        "print(\"\\nCourse Table:\")\n",
        "print(course_df.head(5))\n",
        "\n",
        "\n"
      ],
      "metadata": {
        "id": "plFao_d5O3A8",
        "colab": {
          "base_uri": "https://localhost:8080/"
        },
        "outputId": "9f3b53e7-fb41-4824-c6cd-79eb5714cf0c"
      },
      "execution_count": 5,
      "outputs": [
        {
          "output_type": "stream",
          "name": "stdout",
          "text": [
            "Student Table:\n",
            "      ID    First     Last\n",
            "0  S1001    Alice    Smith\n",
            "1  S1002      Bob    Brown\n",
            "2  S1003  Charlie  Johnson\n",
            "3  S1004    David   Taylor\n",
            "4  S1005     Emma    Brown\n",
            "\n",
            "Grade Table:\n",
            "      ID  Code  Mark\n",
            "0  S1005  C123    55\n",
            "1  S1005  C124    76\n",
            "2  S1011  C124    47\n",
            "3  S1014  C117    50\n",
            "4  S1032  C116    54\n",
            "\n",
            "Course Table:\n",
            "   Code                Title\n",
            "0  C101      Mathematics 101\n",
            "1  C102  Physics Inroduction\n",
            "2  C103  Chemistry Practical\n",
            "3  C104     Computer Science\n",
            "4  C105  Economics & Finance\n"
          ]
        }
      ]
    },
    {
      "cell_type": "markdown",
      "source": [
        "**ONLY RUN IF YOU NEED TO DELETE THE DATA IN THE TABLES**\n",
        "\n",
        "If you run go back to **STEP 4** and re-run from there."
      ],
      "metadata": {
        "id": "9w8NuN4VcuWm"
      }
    },
    {
      "cell_type": "code",
      "source": [
        "# only run if you need to reset the tables without deleting the database and starting again - then re-run the box previous box.\n",
        "# Delete all data from the tables\n",
        "cursor.execute(\"DELETE FROM student\")\n",
        "cursor.execute(\"DELETE FROM grade\")\n",
        "cursor.execute(\"DELETE FROM course\")\n",
        "\n",
        "conn.commit()\n",
        "print(\"All data deleted from the tables successfully!\")\n",
        "\n"
      ],
      "metadata": {
        "colab": {
          "base_uri": "https://localhost:8080/"
        },
        "id": "4qcmP5_uaSgy",
        "outputId": "0e0399d7-c820-4554-9b4e-1748b0363a26"
      },
      "execution_count": null,
      "outputs": [
        {
          "output_type": "stream",
          "name": "stdout",
          "text": [
            "All data deleted from the tables successfully!\n"
          ]
        }
      ]
    },
    {
      "cell_type": "markdown",
      "source": [
        "**STEP 6: SQL Select statements**\n",
        "\n",
        "Run the following statements.  Please ask yoursefl the impact of each one before running.\n",
        "\n",
        "\n"
      ],
      "metadata": {
        "id": "3AzaswOOdNnH"
      }
    },
    {
      "cell_type": "code",
      "source": [
        "# Select all columns from the student table\n",
        "student_df = pd.read_sql_query(\"SELECT * FROM student\", conn)\n",
        "\n",
        "#What should the output be.\n",
        "print(student_df)\n",
        "\n"
      ],
      "metadata": {
        "id": "IVinXfbjdUx0",
        "colab": {
          "base_uri": "https://localhost:8080/"
        },
        "outputId": "a12ea8d8-73a6-4e92-919e-dc4d3920f77f"
      },
      "execution_count": 7,
      "outputs": [
        {
          "output_type": "stream",
          "name": "stdout",
          "text": [
            "       ID    First       Last\n",
            "0   S1001    Alice      Smith\n",
            "1   S1002      Bob      Brown\n",
            "2   S1003  Charlie    Johnson\n",
            "3   S1004    David     Taylor\n",
            "4   S1005     Emma      Brown\n",
            "5   S1006    Fiona     Thomas\n",
            "6   S1007   George      White\n",
            "7   S1008   Hannah     Harris\n",
            "8   S1009    Isaac      Smith\n",
            "9   S1010    Julia   Thompson\n",
            "10  S1011      Bob      Lewis\n",
            "11  S1012    Laura      Smith\n",
            "12  S1013  Michael      Allen\n",
            "13  S1014    Nancy      Young\n",
            "14  S1015   Oliver       King\n",
            "15  S1016    Paula      Smith\n",
            "16  S1017   Robert      Scott\n",
            "17  S1018   Robert      Adams\n",
            "18  S1019   Sophia      Baker\n",
            "19  S1020  Timothy      Brown\n",
            "20  S1021  Timothy       Hall\n",
            "21  S1022   Victor     Carter\n",
            "22  S1023    Wendy     Foster\n",
            "23  S1024  Yasmine      Price\n",
            "24  S1025  Yasmine    Roberts\n",
            "25  S1026  Zachary      Brown\n",
            "26  S1027    Aaron      Evans\n",
            "27  S1028     Beth   Campbell\n",
            "28  S1029  Yasmine     Parker\n",
            "29  S1030    Diana     Murphy\n",
            "30  S1031    Ethan      Price\n",
            "31  S1032  Felicia     Foster\n",
            "32  S1033   Gordon     Bryant\n",
            "33  S1034     Beth  Alexander\n",
            "34  S1035      Ian    Russell\n",
            "35  S1036  Jasmine     Foster\n",
            "36  S1037     Kyle     Foster\n",
            "37  S1038     Beth      Hayes\n",
            "38  S1039     Matt   Sullivan\n",
            "39  S1040     Nina      Price\n"
          ]
        }
      ]
    },
    {
      "cell_type": "code",
      "source": [
        "# Select Last from the student table\n",
        "studentLast_df = pd.read_sql_query(\"SELECT Last FROM student\", conn)\n",
        "\n",
        "#What should the output be.\n",
        "print(studentLast_df)\n",
        "\n"
      ],
      "metadata": {
        "id": "YudMnn4Je5u8",
        "colab": {
          "base_uri": "https://localhost:8080/"
        },
        "outputId": "b2d9343a-3369-41c7-b6b6-7b7d42b72168"
      },
      "execution_count": 8,
      "outputs": [
        {
          "output_type": "stream",
          "name": "stdout",
          "text": [
            "         Last\n",
            "0       Smith\n",
            "1       Brown\n",
            "2     Johnson\n",
            "3      Taylor\n",
            "4       Brown\n",
            "5      Thomas\n",
            "6       White\n",
            "7      Harris\n",
            "8       Smith\n",
            "9    Thompson\n",
            "10      Lewis\n",
            "11      Smith\n",
            "12      Allen\n",
            "13      Young\n",
            "14       King\n",
            "15      Smith\n",
            "16      Scott\n",
            "17      Adams\n",
            "18      Baker\n",
            "19      Brown\n",
            "20       Hall\n",
            "21     Carter\n",
            "22     Foster\n",
            "23      Price\n",
            "24    Roberts\n",
            "25      Brown\n",
            "26      Evans\n",
            "27   Campbell\n",
            "28     Parker\n",
            "29     Murphy\n",
            "30      Price\n",
            "31     Foster\n",
            "32     Bryant\n",
            "33  Alexander\n",
            "34    Russell\n",
            "35     Foster\n",
            "36     Foster\n",
            "37      Hayes\n",
            "38   Sullivan\n",
            "39      Price\n"
          ]
        }
      ]
    },
    {
      "cell_type": "code",
      "source": [
        "# Select DISTINCT last names from the student table\n",
        "studentLastUnique_df = pd.read_sql_query(\"SELECT DISTINCT First FROM student\", conn)\n",
        "\n",
        "#What should the output be.   What does this tell you from the previous outputs?\n",
        "print(studentLastUnique_df)\n",
        "\n"
      ],
      "metadata": {
        "id": "briaPGkHfIqf",
        "colab": {
          "base_uri": "https://localhost:8080/"
        },
        "outputId": "c1d91dee-eb18-4850-d54b-4f211e3a21e9"
      },
      "execution_count": 10,
      "outputs": [
        {
          "output_type": "stream",
          "name": "stdout",
          "text": [
            "      First\n",
            "0     Alice\n",
            "1       Bob\n",
            "2   Charlie\n",
            "3     David\n",
            "4      Emma\n",
            "5     Fiona\n",
            "6    George\n",
            "7    Hannah\n",
            "8     Isaac\n",
            "9     Julia\n",
            "10    Laura\n",
            "11  Michael\n",
            "12    Nancy\n",
            "13   Oliver\n",
            "14    Paula\n",
            "15   Robert\n",
            "16   Sophia\n",
            "17  Timothy\n",
            "18   Victor\n",
            "19    Wendy\n",
            "20  Yasmine\n",
            "21  Zachary\n",
            "22    Aaron\n",
            "23     Beth\n",
            "24    Diana\n",
            "25    Ethan\n",
            "26  Felicia\n",
            "27   Gordon\n",
            "28      Ian\n",
            "29  Jasmine\n",
            "30     Kyle\n",
            "31     Matt\n",
            "32     Nina\n"
          ]
        }
      ]
    },
    {
      "cell_type": "code",
      "source": [
        "# Select DISTINCT First from the student table - modify the query\n",
        "studentFirstUnique_df = pd.read_sql_query(\"SELECT DISTINCT First FROM student\", conn)\n",
        "\n",
        "#What should the output be?  What does this tell you from the previous outputs?\n",
        "print(studentFirstUnique_df)"
      ],
      "metadata": {
        "id": "4AEN9vkGfhWO",
        "colab": {
          "base_uri": "https://localhost:8080/"
        },
        "outputId": "bf1ee458-379c-404a-d478-0e014a202c10"
      },
      "execution_count": 14,
      "outputs": [
        {
          "output_type": "stream",
          "name": "stdout",
          "text": [
            "      First\n",
            "0     Alice\n",
            "1       Bob\n",
            "2   Charlie\n",
            "3     David\n",
            "4      Emma\n",
            "5     Fiona\n",
            "6    George\n",
            "7    Hannah\n",
            "8     Isaac\n",
            "9     Julia\n",
            "10    Laura\n",
            "11  Michael\n",
            "12    Nancy\n",
            "13   Oliver\n",
            "14    Paula\n",
            "15   Robert\n",
            "16   Sophia\n",
            "17  Timothy\n",
            "18   Victor\n",
            "19    Wendy\n",
            "20  Yasmine\n",
            "21  Zachary\n",
            "22    Aaron\n",
            "23     Beth\n",
            "24    Diana\n",
            "25    Ethan\n",
            "26  Felicia\n",
            "27   Gordon\n",
            "28      Ian\n",
            "29  Jasmine\n",
            "30     Kyle\n",
            "31     Matt\n",
            "32     Nina\n"
          ]
        }
      ]
    },
    {
      "cell_type": "markdown",
      "source": [
        "**STEP 7: SELECT with WHERE**"
      ],
      "metadata": {
        "id": "uf1Qw4a9gPMe"
      }
    },
    {
      "cell_type": "code",
      "source": [
        "# Select Marks that are over 60.\n",
        "studentWhere_df = pd.read_sql_query(\"SELECT Mark FROM grade WHERE (Mark >= 60)\", conn)\n",
        "\n",
        "#What should the output be.\n",
        "print(studentWhere_df)"
      ],
      "metadata": {
        "id": "GMd1ShLkgObi",
        "colab": {
          "base_uri": "https://localhost:8080/"
        },
        "outputId": "dcec1c1b-7f13-4234-9e33-b931027c7bc8"
      },
      "execution_count": 15,
      "outputs": [
        {
          "output_type": "stream",
          "name": "stdout",
          "text": [
            "     Mark\n",
            "0      76\n",
            "1      75\n",
            "2      72\n",
            "3      61\n",
            "4      72\n",
            "..    ...\n",
            "420    75\n",
            "421    71\n",
            "422    60\n",
            "423    67\n",
            "424    74\n",
            "\n",
            "[425 rows x 1 columns]\n"
          ]
        }
      ]
    },
    {
      "cell_type": "code",
      "source": [
        "#export the dataframe to csv for further analysis\n",
        "#the index=False means no row numbers are exported.\n",
        "#change index to True and compare the outputs.  Youll need to download formthe Files window\n",
        "\n",
        "studentWhere_df.to_csv('Grades_Over_60.csv', index=True)\n"
      ],
      "metadata": {
        "id": "d5cim_4ygrd7"
      },
      "execution_count": 17,
      "outputs": []
    },
    {
      "cell_type": "markdown",
      "source": [
        "**TASK**\n",
        "\n",
        "Create a statement to select all students that have passed the Finance Management Course and export the file to CSV.\n",
        "\n",
        "Just using standard select statments.\n",
        "\n",
        "How would you tackle the problem."
      ],
      "metadata": {
        "id": "Q3QXPagrhoXN"
      }
    },
    {
      "cell_type": "code",
      "source": [
        "#review the structure of the grades table and the course table\n",
        "print(\"\\nGrade Table:\")\n",
        "print(grade_df.head(5))\n",
        "print(\"\\nCourse Table:\")\n",
        "print(course_df.head(5))"
      ],
      "metadata": {
        "id": "A8ZzgmF8hmvK",
        "colab": {
          "base_uri": "https://localhost:8080/"
        },
        "outputId": "3f9e91fd-f537-418e-e081-d7bd6196f0da"
      },
      "execution_count": 18,
      "outputs": [
        {
          "output_type": "stream",
          "name": "stdout",
          "text": [
            "\n",
            "Grade Table:\n",
            "      ID  Code  Mark\n",
            "0  S1005  C123    55\n",
            "1  S1005  C124    76\n",
            "2  S1011  C124    47\n",
            "3  S1014  C117    50\n",
            "4  S1032  C116    54\n",
            "\n",
            "Course Table:\n",
            "   Code                Title\n",
            "0  C101      Mathematics 101\n",
            "1  C102  Physics Inroduction\n",
            "2  C103  Chemistry Practical\n",
            "3  C104     Computer Science\n",
            "4  C105  Economics & Finance\n"
          ]
        }
      ]
    },
    {
      "cell_type": "code",
      "source": [
        "#select the course code from the course table for the Finance Management Course\n",
        "studentCourse_df = pd.read_sql_query(\"SELECT * FROM Course WHERE Title = 'Finance Management'\", conn)\n",
        "\n",
        "print(studentCourse_df)"
      ],
      "metadata": {
        "id": "sdeCnXWbjWRR",
        "colab": {
          "base_uri": "https://localhost:8080/"
        },
        "outputId": "c6b53bc4-a1bd-4df8-ae25-88566fac922d"
      },
      "execution_count": 20,
      "outputs": [
        {
          "output_type": "stream",
          "name": "stdout",
          "text": [
            "   Code               Title\n",
            "0  C115  Finance Management\n"
          ]
        }
      ]
    },
    {
      "cell_type": "code",
      "source": [
        "#select student ID and Mark for the Finance Management Course\n",
        "studentCourseMark_df = pd.read_sql_query(\"SELECT ID,Mark FROM Grade WHERE Code = 'C115' AND Mark >= '50'\", conn)\n",
        "\n",
        "print(studentCourseMark_df)"
      ],
      "metadata": {
        "id": "vpDF6Ommjt4r",
        "colab": {
          "base_uri": "https://localhost:8080/"
        },
        "outputId": "f641e4c0-99d2-4822-f6eb-75c5383e959e"
      },
      "execution_count": 24,
      "outputs": [
        {
          "output_type": "stream",
          "name": "stdout",
          "text": [
            "       ID  Mark\n",
            "0   S1034    57\n",
            "1   S1012    68\n",
            "2   S1017    51\n",
            "3   S1031    60\n",
            "4   S1036    58\n",
            "5   S1028    61\n",
            "6   S1005    67\n",
            "7   S1009    59\n",
            "8   S1008    59\n",
            "9   S1038    75\n",
            "10  S1023    57\n",
            "11  S1040    65\n",
            "12  S1019    58\n",
            "13  S1026    53\n",
            "14  S1013    63\n",
            "15  S1033    72\n",
            "16  S1002    57\n",
            "17  S1006    62\n",
            "18  S1022    74\n",
            "19  S1014    72\n",
            "20  S1016    54\n",
            "21  S1018    77\n",
            "22  S1020    64\n",
            "23  S1029    57\n",
            "24  S1011    54\n",
            "25  S1003    68\n",
            "26  S1004    75\n"
          ]
        }
      ]
    },
    {
      "cell_type": "markdown",
      "source": [
        "**STEP 8: Select from multiple tables in one statement**\n",
        "\n",
        "This can cause issues where tables have the same column names in different tables.  \n",
        "\n",
        "To resolve this we need to make use of the following syntax:\n",
        "TableName.Column"
      ],
      "metadata": {
        "id": "bDQrjImKn-pl"
      }
    },
    {
      "cell_type": "code",
      "source": [
        "#select the following coloumns:  First, Last & Mark from the Student and Grade tables\n",
        "studentMarks_df = pd.read_sql_query(\"SELECT First, Last, Mark FROM student, grade WHERE (student.ID = grade.ID)\", conn)\n",
        "\n",
        "print(studentMarks_df)\n"
      ],
      "metadata": {
        "id": "WLQb3aqSkawk",
        "colab": {
          "base_uri": "https://localhost:8080/"
        },
        "outputId": "318bf9c3-6d15-43d3-93ff-fb148060f637"
      },
      "execution_count": 25,
      "outputs": [
        {
          "output_type": "stream",
          "name": "stdout",
          "text": [
            "       First      Last  Mark\n",
            "0       Emma     Brown    55\n",
            "1       Emma     Brown    76\n",
            "2        Bob     Lewis    47\n",
            "3      Nancy     Young    50\n",
            "4    Felicia    Foster    54\n",
            "..       ...       ...   ...\n",
            "795     Kyle    Foster    54\n",
            "796     Matt  Sullivan    57\n",
            "797    Laura     Smith    74\n",
            "798    Diana    Murphy    53\n",
            "799     Kyle    Foster    54\n",
            "\n",
            "[800 rows x 3 columns]\n"
          ]
        }
      ]
    },
    {
      "cell_type": "markdown",
      "source": [
        "**TASK**\n",
        "\n",
        "Modify the statement to get all the students that acheived a mark over 50"
      ],
      "metadata": {
        "id": "t49tIdCGrpzP"
      }
    },
    {
      "cell_type": "code",
      "source": [
        "#select the following coloumns:  First, Last & Mark from the Student and Grade tables\n",
        "studentMarks_df = pd.read_sql_query(\"SELECT First, Last, Mark FROM student, grade WHERE (Student.ID = Grade.ID) AND Mark>='50'\", conn)\n",
        "\n",
        "print(studentMarks_df)"
      ],
      "metadata": {
        "id": "quqbECBNrojM",
        "colab": {
          "base_uri": "https://localhost:8080/"
        },
        "outputId": "454126a4-d352-46ae-f864-98dd765ceaaa"
      },
      "execution_count": 26,
      "outputs": [
        {
          "output_type": "stream",
          "name": "stdout",
          "text": [
            "       First       Last  Mark\n",
            "0       Emma      Brown    55\n",
            "1       Emma      Brown    76\n",
            "2      Nancy      Young    50\n",
            "3    Felicia     Foster    54\n",
            "4       Beth  Alexander    75\n",
            "..       ...        ...   ...\n",
            "633     Kyle     Foster    54\n",
            "634     Matt   Sullivan    57\n",
            "635    Laura      Smith    74\n",
            "636    Diana     Murphy    53\n",
            "637     Kyle     Foster    54\n",
            "\n",
            "[638 rows x 3 columns]\n"
          ]
        }
      ]
    },
    {
      "cell_type": "code",
      "source": [
        "#select the following coloumns:  First, Last & Mark from the Student and Grade tables\n",
        "studentMarks_df = pd.read_sql_query(\"SELECT First, Last, Mark FROM student, grade WHERE (Student.ID = Grade.ID) AND Mark>='50'\", conn)\n",
        "\n",
        "print(studentMarks_df)"
      ],
      "metadata": {
        "id": "UzCc4cSss9y9",
        "colab": {
          "base_uri": "https://localhost:8080/"
        },
        "outputId": "029ab2f0-5a3b-4702-841f-29a474f7061f"
      },
      "execution_count": 30,
      "outputs": [
        {
          "output_type": "stream",
          "name": "stdout",
          "text": [
            "       First       Last  Mark\n",
            "0       Emma      Brown    55\n",
            "1       Emma      Brown    76\n",
            "2      Nancy      Young    50\n",
            "3    Felicia     Foster    54\n",
            "4       Beth  Alexander    75\n",
            "..       ...        ...   ...\n",
            "633     Kyle     Foster    54\n",
            "634     Matt   Sullivan    57\n",
            "635    Laura      Smith    74\n",
            "636    Diana     Murphy    53\n",
            "637     Kyle     Foster    54\n",
            "\n",
            "[638 rows x 3 columns]\n"
          ]
        }
      ]
    },
    {
      "cell_type": "code",
      "source": [
        "#modify the query to gather the 'Statistics For Python' Course and all studnet that obtained a mark between 55 and 65\n",
        "studentMarks_df = pd.read_sql_query(\"SELECT First, Last, Mark FROM student, grade, course WHERE (Student.ID = Grade.ID) AND (course.Title ='Statistics For Python') AND (Mark BETWEEN 55 AND 65)\", conn)\n",
        "\n",
        "print(studentMarks_df)\n",
        "\n",
        "#AND是把所有符合条件的都选一起"
      ],
      "metadata": {
        "id": "kjayKT-Ot0ei",
        "colab": {
          "base_uri": "https://localhost:8080/"
        },
        "outputId": "52440ca6-f0bd-43db-962c-737b78b2ce37"
      },
      "execution_count": 31,
      "outputs": [
        {
          "output_type": "stream",
          "name": "stdout",
          "text": [
            "       First       Last  Mark\n",
            "0       Emma      Brown    55\n",
            "1       Beth   Campbell    61\n",
            "2       Beth  Alexander    57\n",
            "3    Charlie    Johnson    55\n",
            "4     George      White    59\n",
            "..       ...        ...   ...\n",
            "252     Beth   Campbell    63\n",
            "253     Matt   Sullivan    65\n",
            "254  Timothy       Hall    60\n",
            "255   Victor     Carter    56\n",
            "256     Matt   Sullivan    57\n",
            "\n",
            "[257 rows x 3 columns]\n"
          ]
        }
      ]
    },
    {
      "cell_type": "markdown",
      "source": [
        "**STEP 9: ORDER BY statements**\n",
        "\n",
        "Can be set to be either ASC or DESC.  The syntax is ORDER BY added to the select statement.  The default setting if not included is ASC."
      ],
      "metadata": {
        "id": "zkc1rMFpvcXL"
      }
    },
    {
      "cell_type": "code",
      "source": [
        "studentMarks_df = pd.read_sql_query(\"SELECT * FROM grade ORDER BY Mark\", conn)\n",
        "\n",
        "print (studentMarks_df)"
      ],
      "metadata": {
        "id": "20mZYXZ6vbrQ",
        "colab": {
          "base_uri": "https://localhost:8080/"
        },
        "outputId": "1f3bdcac-c85f-4986-9b3e-b9a6a4356907"
      },
      "execution_count": 32,
      "outputs": [
        {
          "output_type": "stream",
          "name": "stdout",
          "text": [
            "        ID  Code  Mark\n",
            "0    S1027  C107    35\n",
            "1    S1014  C103    35\n",
            "2    S1032  C118    35\n",
            "3    S1036  C108    35\n",
            "4    S1018  C114    37\n",
            "..     ...   ...   ...\n",
            "795  S1019  C113    81\n",
            "796  S1020  C113    81\n",
            "797  S1023  C109    82\n",
            "798  S1029  C105    82\n",
            "799  S1001  C117    82\n",
            "\n",
            "[800 rows x 3 columns]\n"
          ]
        }
      ]
    },
    {
      "cell_type": "markdown",
      "source": [
        "**TASK**\n",
        "\n",
        "Modify the statement to order by Course Code and then Mark"
      ],
      "metadata": {
        "id": "ScvbtC-lwLjG"
      }
    },
    {
      "cell_type": "code",
      "source": [
        "studentMarks_df = pd.read_sql_query(\"SELECT * FROM grade ORDER BY Code, Code DESC, Mark ASC\", conn)\n",
        "print (studentMarks_df)\n",
        "#Code DESC, Mark DESC分别说"
      ],
      "metadata": {
        "id": "y1X-2VMFwKMP",
        "colab": {
          "base_uri": "https://localhost:8080/"
        },
        "outputId": "c58bba8e-2efe-4d03-f3bb-2b100f041052"
      },
      "execution_count": 36,
      "outputs": [
        {
          "output_type": "stream",
          "name": "stdout",
          "text": [
            "        ID  Code  Mark\n",
            "0    S1023  C101    45\n",
            "1    S1032  C101    45\n",
            "2    S1024  C101    45\n",
            "3    S1036  C101    45\n",
            "4    S1037  C101    46\n",
            "..     ...   ...   ...\n",
            "795  S1014  C124    73\n",
            "796  S1038  C124    74\n",
            "797  S1005  C124    76\n",
            "798  S1009  C124    80\n",
            "799  S1037  C124    81\n",
            "\n",
            "[800 rows x 3 columns]\n"
          ]
        }
      ]
    },
    {
      "cell_type": "markdown",
      "source": [
        "Modify the statement to order by Code, Mark and obtain the student Name.  Only show Name and Mark for Course Id"
      ],
      "metadata": {
        "id": "lDfIGibuwge-"
      }
    },
    {
      "cell_type": "code",
      "source": [
        "studentMarks_df = pd.read_sql_query(\"SELECT Last, First, Mark FROM student, grade WHERE (student.ID = grade.ID) ORDER BY Code DESC, Mark DESC\", conn)\n",
        "print (studentMarks_df)"
      ],
      "metadata": {
        "id": "ObTYxMkewsvb",
        "colab": {
          "base_uri": "https://localhost:8080/"
        },
        "outputId": "03fefcce-54bb-481c-c271-ffd53999d4da"
      },
      "execution_count": 38,
      "outputs": [
        {
          "output_type": "stream",
          "name": "stdout",
          "text": [
            "       Last    First  Mark\n",
            "0    Foster     Kyle    81\n",
            "1     Smith    Isaac    80\n",
            "2     Brown     Emma    76\n",
            "3     Hayes     Beth    74\n",
            "4     Young    Nancy    73\n",
            "..      ...      ...   ...\n",
            "795  Taylor    David    46\n",
            "796  Foster    Wendy    45\n",
            "797  Foster  Felicia    45\n",
            "798   Price  Yasmine    45\n",
            "799  Foster  Jasmine    45\n",
            "\n",
            "[800 rows x 3 columns]\n"
          ]
        }
      ]
    },
    {
      "cell_type": "markdown",
      "source": [
        "Modify the statement to select for a specific course and display the course code and title, order by the grade ASC - Statistics For Python"
      ],
      "metadata": {
        "id": "71JnG0EAxRia"
      }
    },
    {
      "cell_type": "code",
      "source": [
        "studentMarks_df = pd.read_sql_query(\"SELECT grade.Code, course.Title, student.Last, student.First, grade.Mark FROM student INNER JOIN grade ON student.ID = grade.ID INNER JOIN course ON grade.Code = course.Code WHERE course.Title = 'Statistics For Python' ORDER BY grade.Mark ASC\", conn)\n",
        "print (studentMarks_df)"
      ],
      "metadata": {
        "colab": {
          "base_uri": "https://localhost:8080/"
        },
        "id": "EWW5R0q3_ED6",
        "outputId": "2fde7087-22d9-4cba-9e0a-c782322f7748"
      },
      "execution_count": 44,
      "outputs": [
        {
          "output_type": "stream",
          "name": "stdout",
          "text": [
            "    Code                  Title       Last    First  Mark\n",
            "0   C113  Statistics For Python    Roberts  Yasmine    37\n",
            "1   C113  Statistics For Python   Thompson    Julia    37\n",
            "2   C113  Statistics For Python  Alexander     Beth    39\n",
            "3   C113  Statistics For Python     Carter   Victor    41\n",
            "4   C113  Statistics For Python      Price     Nina    45\n",
            "5   C113  Statistics For Python      Lewis      Bob    46\n",
            "6   C113  Statistics For Python     Foster     Kyle    49\n",
            "7   C113  Statistics For Python      Smith    Paula    52\n",
            "8   C113  Statistics For Python      Price  Yasmine    54\n",
            "9   C113  Statistics For Python      Scott   Robert    54\n",
            "10  C113  Statistics For Python      Price    Ethan    55\n",
            "11  C113  Statistics For Python      Allen  Michael    57\n",
            "12  C113  Statistics For Python   Sullivan     Matt    60\n",
            "13  C113  Statistics For Python   Campbell     Beth    64\n",
            "14  C113  Statistics For Python    Johnson  Charlie    64\n",
            "15  C113  Statistics For Python      Young    Nancy    64\n",
            "16  C113  Statistics For Python       Hall  Timothy    64\n",
            "17  C113  Statistics For Python      Adams   Robert    64\n",
            "18  C113  Statistics For Python      Brown     Emma    67\n",
            "19  C113  Statistics For Python      Brown      Bob    67\n",
            "20  C113  Statistics For Python     Harris   Hannah    67\n",
            "21  C113  Statistics For Python     Thomas    Fiona    68\n",
            "22  C113  Statistics For Python    Russell      Ian    69\n",
            "23  C113  Statistics For Python     Foster    Wendy    69\n",
            "24  C113  Statistics For Python      Smith    Laura    70\n",
            "25  C113  Statistics For Python     Foster  Jasmine    71\n",
            "26  C113  Statistics For Python      Evans    Aaron    71\n",
            "27  C113  Statistics For Python       King   Oliver    72\n",
            "28  C113  Statistics For Python     Murphy    Diana    72\n",
            "29  C113  Statistics For Python     Parker  Yasmine    74\n",
            "30  C113  Statistics For Python      Baker   Sophia    81\n",
            "31  C113  Statistics For Python      Brown  Timothy    81\n"
          ]
        }
      ]
    },
    {
      "cell_type": "code",
      "source": [
        "studentMarks_df = pd.read_sql_query(\"SELECT , First, Mark FROM student, grade，course WHERE (student.ID = grade.ID) ORDER BY Mark ASC\", conn)\n",
        "print (studentMarks_df)"
      ],
      "metadata": {
        "id": "vT46ydLmxLdK",
        "colab": {
          "base_uri": "https://localhost:8080/"
        },
        "outputId": "c81e0898-6ae3-460a-af77-1953fe1cfd0f"
      },
      "execution_count": 40,
      "outputs": [
        {
          "output_type": "stream",
          "name": "stdout",
          "text": [
            "       Last    First  Mark\n",
            "0     Evans    Aaron    35\n",
            "1     Young    Nancy    35\n",
            "2    Foster  Felicia    35\n",
            "3    Foster  Jasmine    35\n",
            "4     Adams   Robert    37\n",
            "..      ...      ...   ...\n",
            "795   Baker   Sophia    81\n",
            "796   Brown  Timothy    81\n",
            "797  Foster    Wendy    82\n",
            "798  Parker  Yasmine    82\n",
            "799   Smith    Alice    82\n",
            "\n",
            "[800 rows x 3 columns]\n"
          ]
        }
      ]
    },
    {
      "cell_type": "markdown",
      "source": [
        "**STEP 10: Arthimatic and Aggregating functions**\n",
        "\n",
        "Simple arithmatic on the columns.  \n",
        "\n",
        "When running we make use of AS - to make better readibility for the column name."
      ],
      "metadata": {
        "id": "3UJE1ltfzzQ3"
      }
    },
    {
      "cell_type": "code",
      "source": [
        "#simple Adding values, Subtracting Values, Multiplyig Values:\n",
        "studentCount_df = pd.read_sql_query(\"SELECT Mark, Mark/2 AS DIVIDED, Mark*2 AS DOUBLED, Mark+10 AS MODERATED FROM grade\", conn)\n",
        "print (studentCount_df)"
      ],
      "metadata": {
        "id": "eirT61et1anI"
      },
      "execution_count": null,
      "outputs": []
    },
    {
      "cell_type": "code",
      "source": [
        "#simple Count:  Count up the rows:\n",
        "studentCount_df = pd.read_sql_query(\"SELECT COUNT(*) AS COUNT FROM grade\", conn)\n",
        "print (studentCount_df)"
      ],
      "metadata": {
        "id": "vNroUrDEzzCx"
      },
      "execution_count": null,
      "outputs": []
    },
    {
      "cell_type": "code",
      "source": [
        "#simple SUM for the column values\n",
        "studentCount_df = pd.read_sql_query(\"SELECT SUM(mark) AS TOTAL FROM grade\", conn)\n",
        "print (studentCount_df)"
      ],
      "metadata": {
        "id": "Gdob7mt_0igF"
      },
      "execution_count": null,
      "outputs": []
    },
    {
      "cell_type": "code",
      "source": [
        "#simple MAX for the column values\n",
        "studentCount_df = pd.read_sql_query(\"SELECT MAX(mark) AS BEST FROM grade\", conn)\n",
        "print (studentCount_df)\n",
        "\n",
        "#modify to print the Lowest Mark"
      ],
      "metadata": {
        "id": "D-rd8cG41F0H"
      },
      "execution_count": null,
      "outputs": []
    },
    {
      "cell_type": "markdown",
      "source": [
        "**TASK**\n",
        "\n",
        "How would you calculate the RANGE of values in the marks column."
      ],
      "metadata": {
        "id": "BJwQJ5n52cvg"
      }
    },
    {
      "cell_type": "code",
      "source": [
        "studentCount_df = pd.read_sql_query(\"SELECT MAX(Mark)-MIN(Mark) AS RANGE FROM grade\", conn)\n",
        "print (studentCount_df)"
      ],
      "metadata": {
        "id": "sJOJepFw2cet",
        "colab": {
          "base_uri": "https://localhost:8080/"
        },
        "outputId": "0b0bec61-9475-4511-96a2-5f2544055678"
      },
      "execution_count": 45,
      "outputs": [
        {
          "output_type": "stream",
          "name": "stdout",
          "text": [
            "   RANGE\n",
            "0     47\n"
          ]
        }
      ]
    },
    {
      "cell_type": "markdown",
      "source": [
        "How would you find a specific students marks for all modules taken and the average mark.\n",
        "\n",
        "The student is Laura Smith\n",
        "\n"
      ],
      "metadata": {
        "id": "tKMS1T133I5V"
      }
    },
    {
      "cell_type": "code",
      "source": [
        "studentMarks_df = pd.read_sql_query(\"SELECT First AS FROM grade, student, course Where (student.id= grade.id) AND (course.code= grade.code) AND (course.title = 'Statisitcs For Python') ORDER BY Mark ASC\", conn)\n",
        "print (studentMarks_df)"
      ],
      "metadata": {
        "id": "unqhny4E3H1B",
        "colab": {
          "base_uri": "https://localhost:8080/",
          "height": 459
        },
        "outputId": "f7c06a3c-4a00-4bc6-f262-8130137b8a02"
      },
      "execution_count": 51,
      "outputs": [
        {
          "output_type": "error",
          "ename": "DatabaseError",
          "evalue": "Execution failed on sql 'SELECT First AS FROM grade, student, course Where (student.id= grade.id) AND (course.code= grade.code) AND (course.title = 'Statisitcs For Python') ORDER BY Mark ASC': near \"FROM\": syntax error",
          "traceback": [
            "\u001b[0;31m---------------------------------------------------------------------------\u001b[0m",
            "\u001b[0;31mOperationalError\u001b[0m                          Traceback (most recent call last)",
            "\u001b[0;32m/usr/local/lib/python3.11/dist-packages/pandas/io/sql.py\u001b[0m in \u001b[0;36mexecute\u001b[0;34m(self, sql, params)\u001b[0m\n\u001b[1;32m   2673\u001b[0m         \u001b[0;32mtry\u001b[0m\u001b[0;34m:\u001b[0m\u001b[0;34m\u001b[0m\u001b[0;34m\u001b[0m\u001b[0m\n\u001b[0;32m-> 2674\u001b[0;31m             \u001b[0mcur\u001b[0m\u001b[0;34m.\u001b[0m\u001b[0mexecute\u001b[0m\u001b[0;34m(\u001b[0m\u001b[0msql\u001b[0m\u001b[0;34m,\u001b[0m \u001b[0;34m*\u001b[0m\u001b[0margs\u001b[0m\u001b[0;34m)\u001b[0m\u001b[0;34m\u001b[0m\u001b[0;34m\u001b[0m\u001b[0m\n\u001b[0m\u001b[1;32m   2675\u001b[0m             \u001b[0;32mreturn\u001b[0m \u001b[0mcur\u001b[0m\u001b[0;34m\u001b[0m\u001b[0;34m\u001b[0m\u001b[0m\n",
            "\u001b[0;31mOperationalError\u001b[0m: near \"FROM\": syntax error",
            "\nThe above exception was the direct cause of the following exception:\n",
            "\u001b[0;31mDatabaseError\u001b[0m                             Traceback (most recent call last)",
            "\u001b[0;32m<ipython-input-51-3556282910d8>\u001b[0m in \u001b[0;36m<cell line: 0>\u001b[0;34m()\u001b[0m\n\u001b[0;32m----> 1\u001b[0;31m \u001b[0mstudentMarks_df\u001b[0m \u001b[0;34m=\u001b[0m \u001b[0mpd\u001b[0m\u001b[0;34m.\u001b[0m\u001b[0mread_sql_query\u001b[0m\u001b[0;34m(\u001b[0m\u001b[0;34m\"SELECT First AS FROM grade, student, course Where (student.id= grade.id) AND (course.code= grade.code) AND (course.title = 'Statisitcs For Python') ORDER BY Mark ASC\"\u001b[0m\u001b[0;34m,\u001b[0m \u001b[0mconn\u001b[0m\u001b[0;34m)\u001b[0m\u001b[0;34m\u001b[0m\u001b[0;34m\u001b[0m\u001b[0m\n\u001b[0m\u001b[1;32m      2\u001b[0m \u001b[0mprint\u001b[0m \u001b[0;34m(\u001b[0m\u001b[0mstudentMarks_df\u001b[0m\u001b[0;34m)\u001b[0m\u001b[0;34m\u001b[0m\u001b[0;34m\u001b[0m\u001b[0m\n",
            "\u001b[0;32m/usr/local/lib/python3.11/dist-packages/pandas/io/sql.py\u001b[0m in \u001b[0;36mread_sql_query\u001b[0;34m(sql, con, index_col, coerce_float, params, parse_dates, chunksize, dtype, dtype_backend)\u001b[0m\n\u001b[1;32m    524\u001b[0m \u001b[0;34m\u001b[0m\u001b[0m\n\u001b[1;32m    525\u001b[0m     \u001b[0;32mwith\u001b[0m \u001b[0mpandasSQL_builder\u001b[0m\u001b[0;34m(\u001b[0m\u001b[0mcon\u001b[0m\u001b[0;34m)\u001b[0m \u001b[0;32mas\u001b[0m \u001b[0mpandas_sql\u001b[0m\u001b[0;34m:\u001b[0m\u001b[0;34m\u001b[0m\u001b[0;34m\u001b[0m\u001b[0m\n\u001b[0;32m--> 526\u001b[0;31m         return pandas_sql.read_query(\n\u001b[0m\u001b[1;32m    527\u001b[0m             \u001b[0msql\u001b[0m\u001b[0;34m,\u001b[0m\u001b[0;34m\u001b[0m\u001b[0;34m\u001b[0m\u001b[0m\n\u001b[1;32m    528\u001b[0m             \u001b[0mindex_col\u001b[0m\u001b[0;34m=\u001b[0m\u001b[0mindex_col\u001b[0m\u001b[0;34m,\u001b[0m\u001b[0;34m\u001b[0m\u001b[0;34m\u001b[0m\u001b[0m\n",
            "\u001b[0;32m/usr/local/lib/python3.11/dist-packages/pandas/io/sql.py\u001b[0m in \u001b[0;36mread_query\u001b[0;34m(self, sql, index_col, coerce_float, parse_dates, params, chunksize, dtype, dtype_backend)\u001b[0m\n\u001b[1;32m   2736\u001b[0m         \u001b[0mdtype_backend\u001b[0m\u001b[0;34m:\u001b[0m \u001b[0mDtypeBackend\u001b[0m \u001b[0;34m|\u001b[0m \u001b[0mLiteral\u001b[0m\u001b[0;34m[\u001b[0m\u001b[0;34m\"numpy\"\u001b[0m\u001b[0;34m]\u001b[0m \u001b[0;34m=\u001b[0m \u001b[0;34m\"numpy\"\u001b[0m\u001b[0;34m,\u001b[0m\u001b[0;34m\u001b[0m\u001b[0;34m\u001b[0m\u001b[0m\n\u001b[1;32m   2737\u001b[0m     ) -> DataFrame | Iterator[DataFrame]:\n\u001b[0;32m-> 2738\u001b[0;31m         \u001b[0mcursor\u001b[0m \u001b[0;34m=\u001b[0m \u001b[0mself\u001b[0m\u001b[0;34m.\u001b[0m\u001b[0mexecute\u001b[0m\u001b[0;34m(\u001b[0m\u001b[0msql\u001b[0m\u001b[0;34m,\u001b[0m \u001b[0mparams\u001b[0m\u001b[0;34m)\u001b[0m\u001b[0;34m\u001b[0m\u001b[0;34m\u001b[0m\u001b[0m\n\u001b[0m\u001b[1;32m   2739\u001b[0m         \u001b[0mcolumns\u001b[0m \u001b[0;34m=\u001b[0m \u001b[0;34m[\u001b[0m\u001b[0mcol_desc\u001b[0m\u001b[0;34m[\u001b[0m\u001b[0;36m0\u001b[0m\u001b[0;34m]\u001b[0m \u001b[0;32mfor\u001b[0m \u001b[0mcol_desc\u001b[0m \u001b[0;32min\u001b[0m \u001b[0mcursor\u001b[0m\u001b[0;34m.\u001b[0m\u001b[0mdescription\u001b[0m\u001b[0;34m]\u001b[0m\u001b[0;34m\u001b[0m\u001b[0;34m\u001b[0m\u001b[0m\n\u001b[1;32m   2740\u001b[0m \u001b[0;34m\u001b[0m\u001b[0m\n",
            "\u001b[0;32m/usr/local/lib/python3.11/dist-packages/pandas/io/sql.py\u001b[0m in \u001b[0;36mexecute\u001b[0;34m(self, sql, params)\u001b[0m\n\u001b[1;32m   2684\u001b[0m \u001b[0;34m\u001b[0m\u001b[0m\n\u001b[1;32m   2685\u001b[0m             \u001b[0mex\u001b[0m \u001b[0;34m=\u001b[0m \u001b[0mDatabaseError\u001b[0m\u001b[0;34m(\u001b[0m\u001b[0;34mf\"Execution failed on sql '{sql}': {exc}\"\u001b[0m\u001b[0;34m)\u001b[0m\u001b[0;34m\u001b[0m\u001b[0;34m\u001b[0m\u001b[0m\n\u001b[0;32m-> 2686\u001b[0;31m             \u001b[0;32mraise\u001b[0m \u001b[0mex\u001b[0m \u001b[0;32mfrom\u001b[0m \u001b[0mexc\u001b[0m\u001b[0;34m\u001b[0m\u001b[0;34m\u001b[0m\u001b[0m\n\u001b[0m\u001b[1;32m   2687\u001b[0m \u001b[0;34m\u001b[0m\u001b[0m\n\u001b[1;32m   2688\u001b[0m     \u001b[0;34m@\u001b[0m\u001b[0mstaticmethod\u001b[0m\u001b[0;34m\u001b[0m\u001b[0;34m\u001b[0m\u001b[0m\n",
            "\u001b[0;31mDatabaseError\u001b[0m: Execution failed on sql 'SELECT First AS FROM grade, student, course Where (student.id= grade.id) AND (course.code= grade.code) AND (course.title = 'Statisitcs For Python') ORDER BY Mark ASC': near \"FROM\": syntax error"
          ]
        }
      ]
    },
    {
      "cell_type": "markdown",
      "source": [
        "**STEP 11: Group BY Statements**\n",
        "\n",
        "When we need to pull a group of rows together and carry out an aggregation of data."
      ],
      "metadata": {
        "id": "JMI7cvhk6qOZ"
      }
    },
    {
      "cell_type": "code",
      "source": [
        "studentGroup_df = pd.read_sql_query(\"SELECT First, Last, AVG(Mark), Code AS AVERAGE FROM student,grade GROUP BY Code\", conn)\n",
        "print (studentGroup_df)"
      ],
      "metadata": {
        "id": "nV_GcrqQ9QZz",
        "colab": {
          "base_uri": "https://localhost:8080/"
        },
        "outputId": "3a975c70-3f55-488c-8eed-4f1560ed3441"
      },
      "execution_count": 49,
      "outputs": [
        {
          "output_type": "stream",
          "name": "stdout",
          "text": [
            "    First   Last  AVG(Mark) AVERAGE\n",
            "0   Alice  Smith  59.823529    C101\n",
            "1   Alice  Smith  62.366667    C102\n",
            "2   Alice  Smith  57.911765    C103\n",
            "3   Alice  Smith  61.228571    C104\n",
            "4   Alice  Smith  60.515152    C105\n",
            "5   Alice  Smith  57.909091    C106\n",
            "6   Alice  Smith  57.900000    C107\n",
            "7   Alice  Smith  58.540541    C108\n",
            "8   Alice  Smith  59.638889    C109\n",
            "9   Alice  Smith  59.906250    C110\n",
            "10  Alice  Smith  61.424242    C111\n",
            "11  Alice  Smith  60.028571    C112\n",
            "12  Alice  Smith  60.781250    C113\n",
            "13  Alice  Smith  64.093750    C114\n",
            "14  Alice  Smith  60.218750    C115\n",
            "15  Alice  Smith  58.542857    C116\n",
            "16  Alice  Smith  61.393939    C117\n",
            "17  Alice  Smith  60.542857    C118\n",
            "18  Alice  Smith  62.000000    C119\n",
            "19  Alice  Smith  60.638889    C120\n",
            "20  Alice  Smith  58.361111    C121\n",
            "21  Alice  Smith  63.709677    C122\n",
            "22  Alice  Smith  61.600000    C123\n",
            "23  Alice  Smith  60.093750    C124\n"
          ]
        }
      ]
    },
    {
      "cell_type": "markdown",
      "source": [
        "**TASK**\n",
        "\n",
        "Create a query to show the First, Last name of the student and their average grade across all modules and how many moudles have been taken."
      ],
      "metadata": {
        "id": "9oa6vYCs9fIS"
      }
    },
    {
      "cell_type": "code",
      "source": [
        "studentGroup_df = pd.read_sql_query(\"SELECT First, Last,AVG(Mark) AS AVERAGE FROM student, grade WHERE (student.id= grade.id) GROUP BY Last, First ORDER BY AVERAGE DESC\", conn)\n",
        "print (studentGroup_df)\n",
        "\n",
        "#modify the query to order by AVERAGE grade DESC"
      ],
      "metadata": {
        "id": "3M_A0f1n6pVu",
        "colab": {
          "base_uri": "https://localhost:8080/"
        },
        "outputId": "5ace75d4-1a49-4097-bbd9-22bbf6ac6e26"
      },
      "execution_count": 53,
      "outputs": [
        {
          "output_type": "stream",
          "name": "stdout",
          "text": [
            "      First       Last  AVERAGE\n",
            "0   Yasmine     Parker    65.35\n",
            "1    Robert      Adams    64.20\n",
            "2     Isaac      Smith    63.95\n",
            "3      Beth      Hayes    63.55\n",
            "4     David     Taylor    63.50\n",
            "5      Beth  Alexander    63.15\n",
            "6    Sophia      Baker    62.90\n",
            "7   Michael      Allen    62.70\n",
            "8   Timothy       Hall    62.55\n",
            "9     Wendy     Foster    62.40\n",
            "10    Nancy      Young    62.30\n",
            "11    Aaron      Evans    62.05\n",
            "12    Laura      Smith    61.90\n",
            "13   Oliver       King    61.70\n",
            "14      Bob      Brown    61.60\n",
            "15    Ethan      Price    61.55\n",
            "16  Yasmine      Price    61.05\n",
            "17   Victor     Carter    61.00\n",
            "18  Felicia     Foster    60.95\n",
            "19  Charlie    Johnson    60.85\n",
            "20  Timothy      Brown    60.70\n",
            "21     Emma      Brown    60.65\n",
            "22    Diana     Murphy    60.25\n",
            "23    Fiona     Thomas    60.00\n",
            "24     Beth   Campbell    59.65\n",
            "25     Kyle     Foster    59.40\n",
            "26    Alice      Smith    58.90\n",
            "27    Paula      Smith    58.70\n",
            "28   Hannah     Harris    58.60\n",
            "29   Gordon     Bryant    58.35\n",
            "30   George      White    58.35\n",
            "31  Jasmine     Foster    58.15\n",
            "32  Yasmine    Roberts    57.55\n",
            "33      Ian    Russell    57.45\n",
            "34     Matt   Sullivan    57.45\n",
            "35  Zachary      Brown    57.05\n",
            "36     Nina      Price    56.70\n",
            "37      Bob      Lewis    55.90\n",
            "38    Julia   Thompson    55.65\n",
            "39   Robert      Scott    55.10\n"
          ]
        }
      ]
    },
    {
      "cell_type": "markdown",
      "source": [
        "We can use HAVING to replace a WHERE when we have items that have been grouped together."
      ],
      "metadata": {
        "id": "m874It_P-_dd"
      }
    },
    {
      "cell_type": "code",
      "source": [
        "#using your above query identify stuent that have an AVG of more then 65\n",
        "studentGroup_df = pd.read_sql_query(\"SELECT First, Last,AVG(Mark) AS AVERAGE FROM student, grade WHERE (student.id= grade.id) GROUP BY student.ID HAVING (AVG(Mark)>=65) ORDER BY AVERAGE DESC\", conn)\n",
        "print (studentGroup_df)\n",
        "\n",
        "#how would you change this so it's between 52 AND 58"
      ],
      "metadata": {
        "id": "QV7-gV4i_Jtw",
        "colab": {
          "base_uri": "https://localhost:8080/"
        },
        "outputId": "c1603550-95e3-459b-a842-5132597a2471"
      },
      "execution_count": 55,
      "outputs": [
        {
          "output_type": "stream",
          "name": "stdout",
          "text": [
            "     First    Last  AVERAGE\n",
            "0  Yasmine  Parker    65.35\n"
          ]
        }
      ]
    },
    {
      "cell_type": "markdown",
      "source": [
        "**STEP 12: Using JOINS**\n",
        "\n",
        "Cross JOIN A & B - returns all pairs of rows from A and B\n",
        "\n",
        "Natural JOIN A & B - returns pairs of rows with common values for identical names columns and without dupilcating columns\n",
        "\n",
        "Inner JOIN A & B - returns pairs of rows satisfying a condition"
      ],
      "metadata": {
        "id": "elcg_9P2DpG5"
      }
    },
    {
      "cell_type": "code",
      "source": [
        "#CROSS JOIN\n",
        "studentJoin_df = pd.read_sql_query(\"SELECT * FROM student CROSS JOIN grade\", conn)\n",
        "print (studentJoin_df)"
      ],
      "metadata": {
        "id": "O_0ysJtkDo76"
      },
      "execution_count": null,
      "outputs": []
    },
    {
      "cell_type": "code",
      "source": [
        "#NATURAL JOIN\n",
        "studentJoin_df = pd.read_sql_query(\"SELECT * FROM student NATURAL JOIN grade\", conn)\n",
        "print (studentJoin_df)"
      ],
      "metadata": {
        "id": "79UIMRzvE8Cq"
      },
      "execution_count": null,
      "outputs": []
    },
    {
      "cell_type": "code",
      "source": [
        "#INNER JOIN\n",
        "studentJoin_df = pd.read_sql_query(\"SELECT * FROM student INNER JOIN grade USING (ID)\", conn)\n",
        "print (studentJoin_df)"
      ],
      "metadata": {
        "id": "PMKnT-bwFRbL"
      },
      "execution_count": null,
      "outputs": []
    },
    {
      "cell_type": "code",
      "source": [],
      "metadata": {
        "id": "xrJ96WysGR-u"
      },
      "execution_count": null,
      "outputs": []
    },
    {
      "cell_type": "markdown",
      "source": [
        "**STEP 13: Using a WHEN Statement**\n",
        "\n",
        "The WHEN statement provides the ablity to develop categorising of data, conditional calculations, and filtering results.\n",
        "\n",
        "It works similar in function to an IF .. ELSE statement.\n",
        "\n",
        "Data Classification:"
      ],
      "metadata": {
        "id": "ZJq6E550FR6C"
      }
    },
    {
      "cell_type": "code",
      "source": [
        "# SQL query with CASE statement to classify marks\n",
        "query = \"\"\"\n",
        "SELECT\n",
        "    student.First,\n",
        "    student.Last,\n",
        "    grade.Mark,\n",
        "    CASE\n",
        "        WHEN grade.Mark < 50 THEN 'FAIL'\n",
        "        WHEN grade.Mark BETWEEN 50 AND 59 THEN 'PASS'\n",
        "        WHEN grade.Mark BETWEEN 60 AND 69 THEN 'PASS'\n",
        "        WHEN grade.Mark BETWEEN 70 AND 79 THEN 'DISTINCTION'\n",
        "        ELSE 'NOT ACHIEVABLE'\n",
        "    END AS Grade\n",
        "FROM student\n",
        "JOIN grade ON student.ID = grade.ID\n",
        "WHERE grade.code = 'C115';\n",
        "\"\"\"\n",
        "\n",
        "# Execute query\n",
        "studentMark_df = pd.read_sql_query(query, conn)\n",
        "print(studentMark_df)"
      ],
      "metadata": {
        "id": "E1RBVGRRETDb",
        "colab": {
          "base_uri": "https://localhost:8080/"
        },
        "outputId": "cb1e8de2-8c34-4465-ad31-6f39eb5e5d01"
      },
      "execution_count": 56,
      "outputs": [
        {
          "output_type": "stream",
          "name": "stdout",
          "text": [
            "      First       Last  Mark        Grade\n",
            "0      Beth  Alexander    57         PASS\n",
            "1     Laura      Smith    68         PASS\n",
            "2    Robert      Scott    51         PASS\n",
            "3     Ethan      Price    60         PASS\n",
            "4   Jasmine     Foster    58         PASS\n",
            "5     Diana     Murphy    48         FAIL\n",
            "6      Beth   Campbell    61         PASS\n",
            "7      Emma      Brown    67         PASS\n",
            "8    Oliver       King    46         FAIL\n",
            "9     Isaac      Smith    59         PASS\n",
            "10    Alice      Smith    46         FAIL\n",
            "11   Hannah     Harris    59         PASS\n",
            "12     Beth      Hayes    75  DISTINCTION\n",
            "13    Wendy     Foster    57         PASS\n",
            "14     Nina      Price    65         PASS\n",
            "15   Sophia      Baker    58         PASS\n",
            "16  Zachary      Brown    53         PASS\n",
            "17  Michael      Allen    63         PASS\n",
            "18   Gordon     Bryant    72  DISTINCTION\n",
            "19      Bob      Brown    57         PASS\n",
            "20    Fiona     Thomas    62         PASS\n",
            "21   Victor     Carter    74  DISTINCTION\n",
            "22    Nancy      Young    72  DISTINCTION\n",
            "23    Paula      Smith    54         PASS\n",
            "24      Ian    Russell    43         FAIL\n",
            "25   George      White    47         FAIL\n",
            "26   Robert      Adams    77  DISTINCTION\n",
            "27  Timothy      Brown    64         PASS\n",
            "28  Yasmine     Parker    57         PASS\n",
            "29      Bob      Lewis    54         PASS\n",
            "30  Charlie    Johnson    68         PASS\n",
            "31    David     Taylor    75  DISTINCTION\n"
          ]
        }
      ]
    },
    {
      "cell_type": "markdown",
      "source": [
        "Conditional Calculations:"
      ],
      "metadata": {
        "id": "Cq6fGx-iG8lZ"
      }
    },
    {
      "cell_type": "code",
      "source": [
        "# SQL query with CASE statement to classify marks\n",
        "query = \"\"\"SELECT\n",
        "    Code,\n",
        "    Mark,\n",
        "    ID,\n",
        "    CASE\n",
        "        WHEN Mark >= 70 THEN Mark * 0.90  -- 10% reduction\n",
        "        WHEN Mark <= 50 THEN Mark * 0.95   -- 5% reduction\n",
        "        ELSE Mark  -- No change\n",
        "    END AS Moderated_Mark\n",
        "FROM grade;\n",
        "\"\"\"\n",
        "\n",
        "# Execute query\n",
        "studentMark_df = pd.read_sql_query(query, conn)\n",
        "print(studentMark_df)"
      ],
      "metadata": {
        "id": "0NfX_h2QGB7R"
      },
      "execution_count": null,
      "outputs": []
    },
    {
      "cell_type": "markdown",
      "source": [
        "Running Multiple Quieries:"
      ],
      "metadata": {
        "id": "IzV-Ph6xHEwR"
      }
    },
    {
      "cell_type": "code",
      "source": [
        "query = \"\"\"\n",
        "SELECT\n",
        "    ID,\n",
        "    Code,\n",
        "    Mark,\n",
        "    CASE Code\n",
        "        WHEN 'C123' THEN 'Finance'\n",
        "        WHEN 'C104' THEN 'Course 120'\n",
        "        WHEN 'C117' THEN 'Course 103'\n",
        "        ELSE 'Unknown Status'\n",
        "    END AS UpdatedStatus\n",
        "FROM grade;\n",
        "\"\"\"\n",
        "\n",
        "# Execute query\n",
        "studentMark_df = pd.read_sql_query(query, conn)\n",
        "print(studentMark_df)"
      ],
      "metadata": {
        "id": "cJt1eaVmITqz"
      },
      "execution_count": null,
      "outputs": []
    }
  ]
}